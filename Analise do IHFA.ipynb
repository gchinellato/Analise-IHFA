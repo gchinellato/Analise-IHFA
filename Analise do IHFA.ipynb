{
 "cells": [
  {
   "cell_type": "markdown",
   "metadata": {},
   "source": [
    "# IHFA - Índice de Hedge Funds ANBIMA\n",
    "\n",
    "O IHFA (Índice de Hedge Funds ANBIMA) é uma referência para a indústria de hedge funds. No Brasil, esses produtos se assemelham aos fundos multimercado de gestão ativa, com aplicações em diversos segmentos do mercado e várias estratégias de investimento.\n",
    "\n",
    "O índice conta com os fundos mais representativos do segmento em sua carteira e pPara garantir a representatividade, o IHFA é ajustado trimestralmente, seguindo os seguintes critérios qualitativos e quantitativos:\n",
    "\n",
    "- Seleção apenas dos fundos multimercados que estejam enquadrados nessa classe há mais de um ano.\n",
    "- Exclusão dos fundos fechados, dos exclusivos e daqueles que não cobram taxa de performance.\n",
    "- Exclusão dos fundos com número médio de cotistas inferior a dez no trimestre anterior à data de rebalanceamento.\n",
    "- Exclusão dos fundos que não divulgam o valor das cotas atualizadas diariamente.\n",
    "\n",
    "O objetivo desta análise é verificar os retornos, volitilidade e outras estatísticas dos fundos presente no índice.\n",
    "\n",
    "Input files:\n",
    "- IHF_TEORICO.csv: https://www.anbima.com.br/pt_br/informar/consulta-ihfa.htm\n",
    "- data.xlsx: preencher manualmente"
   ]
  },
  {
   "cell_type": "code",
   "execution_count": 130,
   "metadata": {},
   "outputs": [],
   "source": [
    "import pandas as pd\n",
    "from pandas.plotting import table \n",
    "import numpy as np\n",
    "import seaborn as sns\n",
    "import matplotlib.pyplot as plt\n",
    "import six\n",
    "from requests import Session\n",
    "import json\n",
    "from glob import glob\n",
    "import datetime\n",
    "%matplotlib inline"
   ]
  },
  {
   "cell_type": "markdown",
   "metadata": {},
   "source": [
    "# Extrair fundos da carteira teórica do índice"
   ]
  },
  {
   "cell_type": "code",
   "execution_count": 131,
   "metadata": {},
   "outputs": [],
   "source": [
    "ihf = pd.read_csv('IHF_TEORICO.csv',encoding='latin1', sep=';', skiprows=3)\n",
    "ihf.drop('Data Início', axis=1, inplace=True)\n",
    "ihf.drop('Data Final', axis=1, inplace=True)"
   ]
  },
  {
   "cell_type": "markdown",
   "metadata": {},
   "source": [
    "Preparar valores numéricos e CNPJ"
   ]
  },
  {
   "cell_type": "code",
   "execution_count": 132,
   "metadata": {},
   "outputs": [],
   "source": [
    "ihf.iloc[:,2:] = ihf.iloc[:,2:].apply(lambda x: x.str.replace('.',''))\n",
    "ihf.iloc[:,2:] = ihf.iloc[:,2:].apply(lambda x: x.str.replace(',','.'))\n",
    "ihf[ihf.columns[2:]] = ihf.iloc[:,2:].astype(float)\n",
    "\n",
    "ihf.iloc[:,1:2] = ihf.iloc[:,1:2].apply(lambda x: x.str.replace('.',''))\n",
    "ihf.iloc[:,1:2] = ihf.iloc[:,1:2].apply(lambda x: x.str.replace('/',''))\n",
    "ihf.iloc[:,1:2] = ihf.iloc[:,1:2].apply(lambda x: x.str.replace('-',''))"
   ]
  },
  {
   "cell_type": "markdown",
   "metadata": {},
   "source": [
    "Nova coluna da gestora do fundo"
   ]
  },
  {
   "cell_type": "code",
   "execution_count": 133,
   "metadata": {},
   "outputs": [],
   "source": [
    "ihf.insert(0,'Asset','-')\n",
    "ihf['Asset'] = ihf['Fundo'].str.split().str.get(0)"
   ]
  },
  {
   "cell_type": "markdown",
   "metadata": {},
   "source": [
    "Ordenar pelo fundo com maior participação no índice"
   ]
  },
  {
   "cell_type": "code",
   "execution_count": 134,
   "metadata": {},
   "outputs": [],
   "source": [
    "ihf.sort_values(by=['Participação Relativa (%)'], ascending=False, inplace=True)"
   ]
  },
  {
   "cell_type": "markdown",
   "metadata": {},
   "source": [
    "# Obter perfomance histórica de cada fundo"
   ]
  },
  {
   "cell_type": "code",
   "execution_count": 135,
   "metadata": {},
   "outputs": [],
   "source": [
    "def featch_url(cnpj):\n",
    "    url = 'https://assets-comparacaodefundos.s3-sa-east-1.amazonaws.com/cvm/' + str(cnpj)\n",
    "    headers = {\n",
    "        'User-Agent': 'Mozilla/5.0 (Windows NT 10.0; Win64; x64; rv:82.0) Gecko/20100101 Firefox/82.0',\n",
    "        'Accepts': 'text/html,application/xhtml+xml,application/xml;q=0.9,image/webp,*/*;q=0.8',\n",
    "    }\n",
    "    \n",
    "    session = Session()\n",
    "    session.headers.update(headers)\n",
    "    response = session.get(url)\n",
    "    return json.loads(response.text)"
   ]
  },
  {
   "cell_type": "code",
   "execution_count": 136,
   "metadata": {},
   "outputs": [],
   "source": [
    "'''\n",
    "JSON parser\n",
    "\n",
    "JSON template:\n",
    "    \"c\": rendimento\n",
    "    \"d\": data\n",
    "    \"p\": patrimonio liquido\n",
    "    \"q\": cotistas\n",
    "'''\n",
    "def parse_data(fundo, data):\n",
    "    df = pd.DataFrame(data)  \n",
    "    df['d'] = pd.to_datetime(df['d'], format='%Y%m%d')\n",
    "    df = df.set_index('d')\n",
    "    \n",
    "    #Normaliza valores e subtrai pelo primeiro valor\n",
    "    df[fundo] = (df.c / df.c.iloc[0]) - 1\n",
    "    df.fillna(0, inplace=True)\n",
    "    \n",
    "    #Filtra por mês com o valor do último dia do mês atual / valor do último dia do mês passado (1+Actual)/(1+Past)-1\n",
    "    df = df.resample('M').last()\n",
    "    df['mensal'] = (1+df[fundo])/(1+df[fundo].shift(1))-1\n",
    "    \n",
    "    df.drop(columns=['c','p','q'], inplace=True)\n",
    "    return df"
   ]
  },
  {
   "cell_type": "markdown",
   "metadata": {},
   "source": [
    "Cria diretório com performance de cada fundo do índice"
   ]
  },
  {
   "cell_type": "code",
   "execution_count": null,
   "metadata": {},
   "outputs": [],
   "source": [
    "for i in range(ihf.shape[0]):    \n",
    "    df = parse_data(ihf['Fundo'][i],featch_url(ihf['CNPJ'][i]))\n",
    "    df.to_excel('output/'+ihf['Asset'][i]+'_'+ihf['CNPJ'][i]+'.xlsx')        "
   ]
  },
  {
   "cell_type": "markdown",
   "metadata": {},
   "source": [
    "# Calcular estatísticas"
   ]
  },
  {
   "cell_type": "code",
   "execution_count": null,
   "metadata": {},
   "outputs": [],
   "source": [
    "def cagr(returns):\n",
    "    return ((returns + 1).cumprod() - 1).iloc[-1]\n",
    "\n",
    "def vol(returns, n=12):\n",
    "    return returns.std() * np.sqrt(n)\n",
    "\n",
    "def cdi_perc(returns, rf):\n",
    "    return cagr(returns)/cagr(rf)\n",
    "\n",
    "def sharpe_ratio(returns, rf):\n",
    "    return (cagr(returns) - cagr(rf)) / vol(returns)\n",
    "\n",
    "def beta(returns, market):\n",
    "    return np.cov(returns, market)[0][1] / np.var(market, ddof=1)\n",
    "\n",
    "def treynor_ratio(returns, market, rf):\n",
    "    return (cagr(returns) - cagr(rf)) / beta(returns, market)\n",
    "\n",
    "def alpha_jensen(returns, market, rf):\n",
    "    return (cagr(returns) - cagr(rf)) - beta(returns, market)*(cagr(market)-cagr(rf))\n",
    "\n",
    "def corr(returns, market):\n",
    "    return np.corrcoef(returns,market)[0][1]\n",
    "\n",
    "def months_above_benchmark(returns, benchmark):\n",
    "    return sum(returns>benchmark)/len(returns) \n",
    "\n",
    "def max_return(returns):\n",
    "    return max(returns)\n",
    "\n",
    "def min_return(returns):\n",
    "    return min(returns)\n",
    "\n",
    "def prices(returns, base):\n",
    "    s = [base]\n",
    "    for i in range(len(returns)):\n",
    "        s.append(base * (1 + returns.tolist()[i]))\n",
    "    return np.array(s)\n",
    "\n",
    "def drawdown(returns, tau):\n",
    "    values = prices(returns, 100)\n",
    "    pos = len(values) - 1\n",
    "    pre = pos - tau\n",
    "    drawdown = float('+inf')\n",
    "    while pre >= 0:\n",
    "        dd_i = (values[pos] / values[pre]) - 1\n",
    "        if dd_i < drawdown:\n",
    "            drawdown = dd_i\n",
    "        pos, pre = pos - 1, pre - 1\n",
    "    return abs(drawdown)\n",
    "\n",
    "def max_drawdown(returns):\n",
    "    max_drawdown = float('-inf')\n",
    "    for i in range(0, len(returns)):\n",
    "        drawdown_i = drawdown(returns, i)\n",
    "        if drawdown_i > max_drawdown:\n",
    "            max_drawdown = drawdown_i\n",
    "    return abs(max_drawdown)\n",
    "\n",
    "def stress_test(returns):\n",
    "    return returns.mean()-(3*vol(returns))"
   ]
  },
  {
   "cell_type": "markdown",
   "metadata": {},
   "source": [
    "# Comparar dados"
   ]
  },
  {
   "cell_type": "markdown",
   "metadata": {},
   "source": [
    "Filtro do período inicial da gestão e investidor alvo"
   ]
  },
  {
   "cell_type": "code",
   "execution_count": null,
   "metadata": {},
   "outputs": [],
   "source": [
    "start_date = '2019-08-01'"
   ]
  },
  {
   "cell_type": "markdown",
   "metadata": {},
   "source": [
    "Obter índices de benchmark e carteiras "
   ]
  },
  {
   "cell_type": "code",
   "execution_count": null,
   "metadata": {},
   "outputs": [],
   "source": [
    "rend = pd.read_excel('data.xlsx')"
   ]
  },
  {
   "cell_type": "code",
   "execution_count": null,
   "metadata": {},
   "outputs": [],
   "source": [
    "rend = rend[rend.iloc[:,0] >= start_date]"
   ]
  },
  {
   "cell_type": "code",
   "execution_count": null,
   "metadata": {},
   "outputs": [],
   "source": [
    "end_date = rend.dropna().tail(1).iloc[-1,0]"
   ]
  },
  {
   "cell_type": "code",
   "execution_count": null,
   "metadata": {},
   "outputs": [],
   "source": [
    "rend_indices = rend.drop(['IPCA','IHFA'], axis=1).dropna().set_index(rend.columns[0])\n",
    "rend_ihfa = rend.drop(['CDI','IPCA','Dólar','Ibovespa','IFIX'], axis=1).dropna().set_index(rend.columns[0])"
   ]
  },
  {
   "cell_type": "code",
   "execution_count": null,
   "metadata": {},
   "outputs": [],
   "source": [
    "df_indices = pd.DataFrame() \n",
    "for i in range(rend_indices.shape[1]): \n",
    "    df_indices = df_indices.append(dict(zip(['Fundo','CAGR','VOL'],[rend_indices.columns[i], cagr(rend_indices.iloc[:,i]), vol(rend_indices.iloc[:,i])])), ignore_index=True)                                    "
   ]
  },
  {
   "cell_type": "code",
   "execution_count": null,
   "metadata": {},
   "outputs": [],
   "source": [
    "df_ihfa = pd.DataFrame() \n",
    "for i in range(rend_ihfa.shape[1]): \n",
    "    df_ihfa = df_ihfa.append(dict(zip(['Fundo','CAGR','VOL'],[rend_ihfa.columns[i], cagr(rend_ihfa.iloc[:,i]), vol(rend_ihfa.iloc[:,i])])), ignore_index=True)                                    "
   ]
  },
  {
   "cell_type": "markdown",
   "metadata": {},
   "source": [
    "Obter dados dos fundos"
   ]
  },
  {
   "cell_type": "code",
   "execution_count": null,
   "metadata": {},
   "outputs": [],
   "source": [
    "pages = glob('output/*.xlsx')"
   ]
  },
  {
   "cell_type": "code",
   "execution_count": null,
   "metadata": {},
   "outputs": [],
   "source": [
    "def get_data_by_start_date(page, start_date):\n",
    "    df = pd.read_excel(page)\n",
    "    df = df[df.d >= start_date]\n",
    "    df.rename(columns={df.columns[2]:df.columns[1]}, inplace=True)\n",
    "    df = df.dropna().set_index(df.columns[0])  \n",
    "    \n",
    "    # ler somente 3 primeiras palavras do nome do fundo\n",
    "    sub = df.columns[1].split()[0:3]\n",
    "    name  = ' '.join(sub)\n",
    "    return dict(zip(['Fundo','CAGR','VOL'],[name, cagr(df.iloc[:,1]), vol(df.iloc[:,1])]))"
   ]
  },
  {
   "cell_type": "code",
   "execution_count": null,
   "metadata": {},
   "outputs": [],
   "source": [
    "df_fundos = pd.DataFrame() \n",
    "dfs = [ get_data_by_start_date(page, start_date) for page in pages ]\n",
    "df_fundos = df_fundos.append(dfs, ignore_index=True)"
   ]
  },
  {
   "cell_type": "markdown",
   "metadata": {},
   "source": [
    "Listar fundos mais antigos di IHFA por ano"
   ]
  },
  {
   "cell_type": "code",
   "execution_count": null,
   "metadata": {},
   "outputs": [],
   "source": [
    "def get_data_by_year(page):\n",
    "    df = pd.read_excel(page)\n",
    "    df.drop('mensal', axis=1, inplace=True)\n",
    "    df['d'] = df['d'].dt.strftime('%Y')\n",
    "    return df.drop_duplicates(subset = ['d']).set_index(df.columns[0]) "
   ]
  },
  {
   "cell_type": "code",
   "execution_count": null,
   "metadata": {},
   "outputs": [],
   "source": [
    "dfs = [ get_data_by_year(page) for page in pages ]\n",
    "fundos_por_ano = pd.concat(dfs, axis=1, sort=True)"
   ]
  },
  {
   "cell_type": "code",
   "execution_count": null,
   "metadata": {},
   "outputs": [],
   "source": [
    "fundos_por_ano.apply(lambda x: x.notnull().sum(), axis='columns')\n",
    "#fundos_por_ano.loc['2005'].dropna()"
   ]
  },
  {
   "cell_type": "markdown",
   "metadata": {},
   "source": [
    "Exibir resultados"
   ]
  },
  {
   "cell_type": "code",
   "execution_count": null,
   "metadata": {},
   "outputs": [],
   "source": [
    "df = pd.concat([df_fundos.assign(dataset='Fundos'),\n",
    "                df_indices.assign(dataset='Índice'), \n",
    "                df_ihfa.assign(dataset='IHFA')], sort=True)"
   ]
  },
  {
   "cell_type": "code",
   "execution_count": null,
   "metadata": {},
   "outputs": [],
   "source": [
    "color = ['deepskyblue','crimson','darkorange']\n",
    "\n",
    "fig, ax = plt.subplots(figsize=(20, 15))\n",
    "s = sns.scatterplot(data=df, x='VOL', y='CAGR', hue='dataset', size='dataset',\n",
    "                     sizes=(1250, 175), palette=color, ax=ax)\n",
    "\n",
    "s_datee = datetime.datetime.strptime(start_date, \"%Y-%m-%d\")\n",
    "period = str(s_datee.strftime(\"%b\")) + '/' + str(s_datee.year) + \\\n",
    "         '-' + str(end_date.strftime(\"%b\")) + '/' + str(end_date.year)\n",
    "\n",
    "plt.title('Retorno x Volatilidade' + ' ('+period+')', fontsize=25, fontweight='bold')\n",
    "plt.xlabel('Volatilidade (%)', fontsize=25, fontweight='bold')\n",
    "plt.ylabel('Retorno (%)', fontsize=25, fontweight='bold')\n",
    "\n",
    "vals = s.get_xticks()\n",
    "s.set_xticklabels(['{:,.0%}'.format(x) for x in vals], fontsize=15)\n",
    "vals = s.get_yticks()\n",
    "s.set_yticklabels(['{:,.0%}'.format(x) for x in vals], fontsize=15)\n",
    "\n",
    "handles, labels = ax.get_legend_handles_labels()\n",
    "ax.legend(handles=handles[1:], labels=labels[1:], labelspacing=2.5, fontsize=12)\n",
    "\n",
    "def label_point(x, y, val, ax):\n",
    "    a = pd.concat({'x': x, 'y': y, 'val': val}, axis=1)    \n",
    "\n",
    "    for i, point in a.iterrows():\n",
    "        ax.text(point['x']+.015, point['y'], str(point['val']), fontsize=15, fontweight='bold')\n",
    "\n",
    "x = df[df['dataset'] == 'Fundos'].sort_values(by='CAGR', ascending=False).head(3).VOL\n",
    "y = df[df['dataset'] == 'Fundos'].sort_values(by='CAGR', ascending=False).head(3).CAGR\n",
    "val = df[df['dataset'] == 'Fundos'].sort_values(by='CAGR', ascending=False).head(3).Fundo\n",
    "label_point(x, y, val, plt.gca()) \n",
    "        \n",
    "x = df[df['dataset'] == 'Índice'].VOL\n",
    "y = df[df['dataset'] == 'Índice'].CAGR\n",
    "val = df[df['dataset'] == 'Índice'].Fundo            \n",
    "label_point(x, y, val, plt.gca()) \n",
    "\n",
    "x = df[df['dataset'] == 'IHFA'].VOL\n",
    "y = df[df['dataset'] == 'IHFA'].CAGR\n",
    "val = df[df['dataset'] == 'IHFA'].Fundo            \n",
    "label_point(x, y, val, plt.gca()) \n",
    "\n",
    "plt.style.use('seaborn-darkgrid')\n",
    "plt.savefig('retorno-vol.png',dpi=300)"
   ]
  },
  {
   "cell_type": "markdown",
   "metadata": {},
   "source": [
    "Calcular estatísticas"
   ]
  },
  {
   "cell_type": "code",
   "execution_count": null,
   "metadata": {},
   "outputs": [],
   "source": [
    "CDI = rend_indices.loc[:,'CDI']\n",
    "IBOV = rend_indices.loc[:,'Ibovespa']\n",
    "IHFA = rend_ihfa.iloc[:,0]"
   ]
  },
  {
   "cell_type": "code",
   "execution_count": null,
   "metadata": {},
   "outputs": [],
   "source": [
    "index = ['Retorno Composto','Volatilidade','% CDI','Índice Sharpe','Índice Treynor','Alpha de Jensen','Meses acima CDI',\n",
    "        'Maior Retorno Mensal','Menor Retorno Mensal','Maior Queda','Stress Test']\n",
    "columns = ['IHFA', 'IBOV', 'CDI']\n",
    "data = {columns[0]: [str(round(cagr(IHFA)*100,2))+'%',\n",
    "                     str(round(vol(IHFA)*100,2))+'%',\n",
    "                     str(round(cdi_perc(IHFA, CDI)*100,2))+'%',\n",
    "                     round(sharpe_ratio(IHFA, CDI),2),\n",
    "                     round(treynor_ratio(IHFA, IBOV, CDI),2),\n",
    "                     round(alpha_jensen(IHFA, IBOV, CDI),2),\n",
    "                     str(round(months_above_benchmark(IHFA, CDI)*100,2))+'%',\n",
    "                     str(round(max_return(IHFA)*100,2))+'%',\n",
    "                     str(round(min_return(IHFA)*100,2))+'%',\n",
    "                     str(-round(max_drawdown(IHFA)*100,2))+'%',\n",
    "                     str(round(stress_test(IHFA)*100,2))+'%'],\n",
    "        columns[1]: [str(round(cagr(IBOV)*100,2))+'%',\n",
    "                     str(round(vol(IBOV)*100,2))+'%',\n",
    "                     '-',\n",
    "                     '-',\n",
    "                     '-',\n",
    "                     '-',\n",
    "                     '-',\n",
    "                     str(round(max_return(IBOV)*100,2))+'%',\n",
    "                     str(round(min_return(IBOV)*100,2))+'%',\n",
    "                     str(-round(max_drawdown(IBOV)*100,2))+'%',\n",
    "                     str(round(stress_test(IBOV)*100,2))+'%'],\n",
    "        columns[2]: [str(round(cagr(CDI)*100,2))+'%',\n",
    "                     str(round(vol(CDI)*100,2))+'%',\n",
    "                     '-',\n",
    "                     '-',\n",
    "                     '-',\n",
    "                     '-',\n",
    "                     '-',\n",
    "                     '-',\n",
    "                     '-',\n",
    "                     '-',\n",
    "                     '-']}\n",
    "df_sts = pd.DataFrame(data=data, index=index)"
   ]
  },
  {
   "cell_type": "code",
   "execution_count": null,
   "metadata": {},
   "outputs": [],
   "source": [
    "fig, ax = plt.subplots(figsize=(5, 1))\n",
    "ax.xaxis.set_visible(False)\n",
    "ax.yaxis.set_visible(False)\n",
    "ax.set_frame_on(False)\n",
    "\n",
    "header_color = 'royalblue'\n",
    "row_colors = ['#f1f1f2', 'w']\n",
    "\n",
    "tab = table(ax, df_sts, loc='upper left', cellLoc='center', colWidths=[0.30]*len(df_sts.columns))\n",
    "\n",
    "# index name\n",
    "w, h = tab[0,1].get_width(), tab[0,1].get_height()\n",
    "tab.add_cell(0, -1, w, h, text=period)\n",
    "\n",
    "#properties\n",
    "tab.auto_set_font_size(False)\n",
    "tab.set_fontsize(15)\n",
    "tab.scale(1.5, 1.5)\n",
    "\n",
    "#coloring\n",
    "for k, cell in six.iteritems(tab._cells):\n",
    "    cell.set_edgecolor('w')\n",
    "        \n",
    "    if k[0] == 0 and k[1] == -1:\n",
    "        pass   \n",
    "    elif k[0] == 0 or k[1] < 0:\n",
    "        cell.set_text_props(weight='bold', color='w')\n",
    "        cell.set_facecolor(header_color)\n",
    "    else:\n",
    "        cell.set_facecolor(row_colors[k[0]%len(row_colors)])\n",
    "\n",
    "plt.savefig('retorno_tabela.png',dpi=300, bbox_inches = 'tight')"
   ]
  },
  {
   "cell_type": "code",
   "execution_count": null,
   "metadata": {},
   "outputs": [],
   "source": []
  }
 ],
 "metadata": {
  "kernelspec": {
   "display_name": "Python 3",
   "language": "python",
   "name": "python3"
  },
  "language_info": {
   "codemirror_mode": {
    "name": "ipython",
    "version": 3
   },
   "file_extension": ".py",
   "mimetype": "text/x-python",
   "name": "python",
   "nbconvert_exporter": "python",
   "pygments_lexer": "ipython3",
   "version": "3.7.4"
  }
 },
 "nbformat": 4,
 "nbformat_minor": 2
}
